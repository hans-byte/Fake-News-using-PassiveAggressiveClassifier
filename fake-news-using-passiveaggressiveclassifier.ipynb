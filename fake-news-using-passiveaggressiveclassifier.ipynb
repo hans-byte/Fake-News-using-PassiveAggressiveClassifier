{
 "cells": [
  {
   "cell_type": "code",
   "execution_count": 1,
   "id": "165fe2c7",
   "metadata": {
    "_cell_guid": "b1076dfc-b9ad-4769-8c92-a6c4dae69d19",
    "_uuid": "8f2839f25d086af736a60e9eeb907d3b93b6e0e5",
    "execution": {
     "iopub.execute_input": "2022-07-17T14:22:18.089723Z",
     "iopub.status.busy": "2022-07-17T14:22:18.088399Z",
     "iopub.status.idle": "2022-07-17T14:22:19.450361Z",
     "shell.execute_reply": "2022-07-17T14:22:19.449412Z"
    },
    "papermill": {
     "duration": 1.372354,
     "end_time": "2022-07-17T14:22:19.453310",
     "exception": false,
     "start_time": "2022-07-17T14:22:18.080956",
     "status": "completed"
    },
    "tags": []
   },
   "outputs": [
    {
     "name": "stdout",
     "output_type": "stream",
     "text": [
      "/kaggle/input/my-dataset-1/news.csv\n"
     ]
    }
   ],
   "source": [
    "import numpy as np # linear algebra\n",
    "import pandas as pd # data processing, CSV file I/O (e.g. pd.read_csv)\n",
    "import os\n",
    "for dirname, _, filenames in os.walk('/kaggle/input'):\n",
    "    for filename in filenames:\n",
    "        print(os.path.join(dirname, filename))\n",
    "import itertools\n",
    "from sklearn.model_selection import train_test_split\n",
    "from sklearn.feature_extraction.text import TfidfVectorizer\n",
    "from sklearn.linear_model import PassiveAggressiveClassifier\n",
    "from sklearn.metrics import accuracy_score, confusion_matrix\n",
    "import seaborn as sns\n",
    "import matplotlib as plt\n",
    "from matplotlib import pyplot"
   ]
  },
  {
   "cell_type": "markdown",
   "id": "0e616ae8",
   "metadata": {
    "papermill": {
     "duration": 0.004367,
     "end_time": "2022-07-17T14:22:19.462542",
     "exception": false,
     "start_time": "2022-07-17T14:22:19.458175",
     "status": "completed"
    },
    "tags": []
   },
   "source": [
    "# Reading the dataset"
   ]
  },
  {
   "cell_type": "code",
   "execution_count": 2,
   "id": "1670f4d3",
   "metadata": {
    "execution": {
     "iopub.execute_input": "2022-07-17T14:22:19.473502Z",
     "iopub.status.busy": "2022-07-17T14:22:19.473126Z",
     "iopub.status.idle": "2022-07-17T14:22:20.274489Z",
     "shell.execute_reply": "2022-07-17T14:22:20.273384Z"
    },
    "papermill": {
     "duration": 0.810193,
     "end_time": "2022-07-17T14:22:20.277304",
     "exception": false,
     "start_time": "2022-07-17T14:22:19.467111",
     "status": "completed"
    },
    "tags": []
   },
   "outputs": [],
   "source": [
    "df = pd.read_csv('../input/my-dataset-1/news.csv')"
   ]
  },
  {
   "cell_type": "markdown",
   "id": "d6a0c41f",
   "metadata": {
    "papermill": {
     "duration": 0.004158,
     "end_time": "2022-07-17T14:22:20.286022",
     "exception": false,
     "start_time": "2022-07-17T14:22:20.281864",
     "status": "completed"
    },
    "tags": []
   },
   "source": [
    "Let´s see how it looks like"
   ]
  },
  {
   "cell_type": "code",
   "execution_count": 3,
   "id": "4d2cabe8",
   "metadata": {
    "execution": {
     "iopub.execute_input": "2022-07-17T14:22:20.297070Z",
     "iopub.status.busy": "2022-07-17T14:22:20.296421Z",
     "iopub.status.idle": "2022-07-17T14:22:20.317790Z",
     "shell.execute_reply": "2022-07-17T14:22:20.316953Z"
    },
    "papermill": {
     "duration": 0.029768,
     "end_time": "2022-07-17T14:22:20.320217",
     "exception": false,
     "start_time": "2022-07-17T14:22:20.290449",
     "status": "completed"
    },
    "tags": []
   },
   "outputs": [
    {
     "data": {
      "text/html": [
       "<div>\n",
       "<style scoped>\n",
       "    .dataframe tbody tr th:only-of-type {\n",
       "        vertical-align: middle;\n",
       "    }\n",
       "\n",
       "    .dataframe tbody tr th {\n",
       "        vertical-align: top;\n",
       "    }\n",
       "\n",
       "    .dataframe thead th {\n",
       "        text-align: right;\n",
       "    }\n",
       "</style>\n",
       "<table border=\"1\" class=\"dataframe\">\n",
       "  <thead>\n",
       "    <tr style=\"text-align: right;\">\n",
       "      <th></th>\n",
       "      <th>Unnamed: 0</th>\n",
       "      <th>title</th>\n",
       "      <th>text</th>\n",
       "      <th>label</th>\n",
       "    </tr>\n",
       "  </thead>\n",
       "  <tbody>\n",
       "    <tr>\n",
       "      <th>0</th>\n",
       "      <td>8476</td>\n",
       "      <td>You Can Smell Hillary’s Fear</td>\n",
       "      <td>Daniel Greenfield, a Shillman Journalism Fello...</td>\n",
       "      <td>FAKE</td>\n",
       "    </tr>\n",
       "    <tr>\n",
       "      <th>1</th>\n",
       "      <td>10294</td>\n",
       "      <td>Watch The Exact Moment Paul Ryan Committed Pol...</td>\n",
       "      <td>Google Pinterest Digg Linkedin Reddit Stumbleu...</td>\n",
       "      <td>FAKE</td>\n",
       "    </tr>\n",
       "    <tr>\n",
       "      <th>2</th>\n",
       "      <td>3608</td>\n",
       "      <td>Kerry to go to Paris in gesture of sympathy</td>\n",
       "      <td>U.S. Secretary of State John F. Kerry said Mon...</td>\n",
       "      <td>REAL</td>\n",
       "    </tr>\n",
       "    <tr>\n",
       "      <th>3</th>\n",
       "      <td>10142</td>\n",
       "      <td>Bernie supporters on Twitter erupt in anger ag...</td>\n",
       "      <td>— Kaydee King (@KaydeeKing) November 9, 2016 T...</td>\n",
       "      <td>FAKE</td>\n",
       "    </tr>\n",
       "    <tr>\n",
       "      <th>4</th>\n",
       "      <td>875</td>\n",
       "      <td>The Battle of New York: Why This Primary Matters</td>\n",
       "      <td>It's primary day in New York and front-runners...</td>\n",
       "      <td>REAL</td>\n",
       "    </tr>\n",
       "  </tbody>\n",
       "</table>\n",
       "</div>"
      ],
      "text/plain": [
       "   Unnamed: 0                                              title  \\\n",
       "0        8476                       You Can Smell Hillary’s Fear   \n",
       "1       10294  Watch The Exact Moment Paul Ryan Committed Pol...   \n",
       "2        3608        Kerry to go to Paris in gesture of sympathy   \n",
       "3       10142  Bernie supporters on Twitter erupt in anger ag...   \n",
       "4         875   The Battle of New York: Why This Primary Matters   \n",
       "\n",
       "                                                text label  \n",
       "0  Daniel Greenfield, a Shillman Journalism Fello...  FAKE  \n",
       "1  Google Pinterest Digg Linkedin Reddit Stumbleu...  FAKE  \n",
       "2  U.S. Secretary of State John F. Kerry said Mon...  REAL  \n",
       "3  — Kaydee King (@KaydeeKing) November 9, 2016 T...  FAKE  \n",
       "4  It's primary day in New York and front-runners...  REAL  "
      ]
     },
     "execution_count": 3,
     "metadata": {},
     "output_type": "execute_result"
    }
   ],
   "source": [
    "df.head(5)"
   ]
  },
  {
   "cell_type": "code",
   "execution_count": 4,
   "id": "685d25b7",
   "metadata": {
    "execution": {
     "iopub.execute_input": "2022-07-17T14:22:20.333066Z",
     "iopub.status.busy": "2022-07-17T14:22:20.331874Z",
     "iopub.status.idle": "2022-07-17T14:22:20.350662Z",
     "shell.execute_reply": "2022-07-17T14:22:20.349595Z"
    },
    "papermill": {
     "duration": 0.027527,
     "end_time": "2022-07-17T14:22:20.352959",
     "exception": false,
     "start_time": "2022-07-17T14:22:20.325432",
     "status": "completed"
    },
    "tags": []
   },
   "outputs": [
    {
     "data": {
      "text/plain": [
       "label\n",
       "FAKE    3164\n",
       "REAL    3171\n",
       "Name: title, dtype: int64"
      ]
     },
     "execution_count": 4,
     "metadata": {},
     "output_type": "execute_result"
    }
   ],
   "source": [
    "df.groupby('label').count()['title']"
   ]
  },
  {
   "cell_type": "markdown",
   "id": "6a1ec3e9",
   "metadata": {
    "papermill": {
     "duration": 0.004851,
     "end_time": "2022-07-17T14:22:20.363094",
     "exception": false,
     "start_time": "2022-07-17T14:22:20.358243",
     "status": "completed"
    },
    "tags": []
   },
   "source": [
    "As we can see here, the data set is pretty equilibrated between what are fake news and what are real news."
   ]
  },
  {
   "cell_type": "markdown",
   "id": "4e4983d2",
   "metadata": {
    "papermill": {
     "duration": 0.004758,
     "end_time": "2022-07-17T14:22:20.373056",
     "exception": false,
     "start_time": "2022-07-17T14:22:20.368298",
     "status": "completed"
    },
    "tags": []
   },
   "source": [
    "# Training the model"
   ]
  },
  {
   "cell_type": "markdown",
   "id": "321bd360",
   "metadata": {
    "papermill": {
     "duration": 0.00478,
     "end_time": "2022-07-17T14:22:20.382863",
     "exception": false,
     "start_time": "2022-07-17T14:22:20.378083",
     "status": "completed"
    },
    "tags": []
   },
   "source": [
    "Realizing that we have to make a model that predicts the \"label\" column, we will split the data in train and test sets"
   ]
  },
  {
   "cell_type": "code",
   "execution_count": 5,
   "id": "73c6b340",
   "metadata": {
    "execution": {
     "iopub.execute_input": "2022-07-17T14:22:20.395114Z",
     "iopub.status.busy": "2022-07-17T14:22:20.394694Z",
     "iopub.status.idle": "2022-07-17T14:22:20.401856Z",
     "shell.execute_reply": "2022-07-17T14:22:20.401134Z"
    },
    "papermill": {
     "duration": 0.015951,
     "end_time": "2022-07-17T14:22:20.403932",
     "exception": false,
     "start_time": "2022-07-17T14:22:20.387981",
     "status": "completed"
    },
    "tags": []
   },
   "outputs": [],
   "source": [
    "x_train,x_test,y_train,y_test=train_test_split(df['text'], df.label, test_size=0.2, random_state=101)"
   ]
  },
  {
   "cell_type": "markdown",
   "id": "0795ae75",
   "metadata": {
    "papermill": {
     "duration": 0.004926,
     "end_time": "2022-07-17T14:22:20.414098",
     "exception": false,
     "start_time": "2022-07-17T14:22:20.409172",
     "status": "completed"
    },
    "tags": []
   },
   "source": [
    "Now let’s initialize a TfidfVectorizer with stop words from the English language and a maximum document frequency of 0.7 (terms with a higher document frequency will be discarded). Stop words are the most common words in a language that are to be filtered out before processing the natural language data. And a TfidfVectorizer turns a collection of raw documents into a matrix of TF-IDF features.\n",
    "\n",
    "Now, fit and transform the vectorizer on the train set, and transform the vectorizer on the test set."
   ]
  },
  {
   "cell_type": "code",
   "execution_count": 6,
   "id": "95102b86",
   "metadata": {
    "execution": {
     "iopub.execute_input": "2022-07-17T14:22:20.426756Z",
     "iopub.status.busy": "2022-07-17T14:22:20.425828Z",
     "iopub.status.idle": "2022-07-17T14:22:25.528562Z",
     "shell.execute_reply": "2022-07-17T14:22:25.527154Z"
    },
    "papermill": {
     "duration": 5.112319,
     "end_time": "2022-07-17T14:22:25.531569",
     "exception": false,
     "start_time": "2022-07-17T14:22:20.419250",
     "status": "completed"
    },
    "tags": []
   },
   "outputs": [],
   "source": [
    "tfidf_vectorizer=TfidfVectorizer(stop_words='english', max_df=0.7)\n",
    "\n",
    "tfidf_train=tfidf_vectorizer.fit_transform(x_train) \n",
    "tfidf_test=tfidf_vectorizer.transform(x_test)"
   ]
  },
  {
   "cell_type": "markdown",
   "id": "922f3533",
   "metadata": {
    "papermill": {
     "duration": 0.004927,
     "end_time": "2022-07-17T14:22:25.542093",
     "exception": false,
     "start_time": "2022-07-17T14:22:25.537166",
     "status": "completed"
    },
    "tags": []
   },
   "source": [
    "# Predictions and Insights"
   ]
  },
  {
   "cell_type": "markdown",
   "id": "4e4f2844",
   "metadata": {
    "papermill": {
     "duration": 0.004742,
     "end_time": "2022-07-17T14:22:25.551859",
     "exception": false,
     "start_time": "2022-07-17T14:22:25.547117",
     "status": "completed"
    },
    "tags": []
   },
   "source": [
    "Next, we’ll initialize a PassiveAggressiveClassifier. This is. We’ll fit this on tfidf_train and y_train."
   ]
  },
  {
   "cell_type": "code",
   "execution_count": 7,
   "id": "28b5ca9f",
   "metadata": {
    "execution": {
     "iopub.execute_input": "2022-07-17T14:22:25.563568Z",
     "iopub.status.busy": "2022-07-17T14:22:25.563163Z",
     "iopub.status.idle": "2022-07-17T14:22:25.706878Z",
     "shell.execute_reply": "2022-07-17T14:22:25.705605Z"
    },
    "papermill": {
     "duration": 0.152846,
     "end_time": "2022-07-17T14:22:25.709573",
     "exception": false,
     "start_time": "2022-07-17T14:22:25.556727",
     "status": "completed"
    },
    "tags": []
   },
   "outputs": [
    {
     "name": "stdout",
     "output_type": "stream",
     "text": [
      "Accuracy: 93.61%\n"
     ]
    }
   ],
   "source": [
    "pac=PassiveAggressiveClassifier(max_iter=50)\n",
    "pac.fit(tfidf_train,y_train)\n",
    "#DataFlair - Predict on the test set and calculate accuracy\n",
    "y_pred=pac.predict(tfidf_test)\n",
    "score=accuracy_score(y_test,y_pred)\n",
    "print(f'Accuracy: {round(score*100,2)}%')"
   ]
  },
  {
   "cell_type": "code",
   "execution_count": 8,
   "id": "5659a81c",
   "metadata": {
    "execution": {
     "iopub.execute_input": "2022-07-17T14:22:25.722807Z",
     "iopub.status.busy": "2022-07-17T14:22:25.721623Z",
     "iopub.status.idle": "2022-07-17T14:22:25.978722Z",
     "shell.execute_reply": "2022-07-17T14:22:25.977799Z"
    },
    "papermill": {
     "duration": 0.266152,
     "end_time": "2022-07-17T14:22:25.980926",
     "exception": false,
     "start_time": "2022-07-17T14:22:25.714774",
     "status": "completed"
    },
    "tags": []
   },
   "outputs": [
    {
     "data": {
      "text/plain": [
       "<AxesSubplot:>"
      ]
     },
     "execution_count": 8,
     "metadata": {},
     "output_type": "execute_result"
    },
    {
     "data": {
      "image/png": "[encoded data removed]",
      "text/plain": [
       "<Figure size 1080x288 with 2 Axes>"
      ]
     },
     "metadata": {
      "needs_background": "light"
     },
     "output_type": "display_data"
    }
   ],
   "source": [
    "fig, ax = pyplot.subplots(figsize=(15,4))\n",
    "sns.heatmap(confusion_matrix(y_test,y_pred, labels=['FAKE','REAL']),annot=True,fmt = '.3g')"
   ]
  }
 ],
 "metadata": {
  "kernelspec": {
   "display_name": "Python 3",
   "language": "python",
   "name": "python3"
  },
  "language_info": {
   "codemirror_mode": {
    "name": "ipython",
    "version": 3
   },
   "file_extension": ".py",
   "mimetype": "text/x-python",
   "name": "python",
   "nbconvert_exporter": "python",
   "pygments_lexer": "ipython3",
   "version": "3.7.12"
  },
  "papermill": {
   "default_parameters": {},
   "duration": 18.967272,
   "end_time": "2022-07-17T14:22:26.709874",
   "environment_variables": {},
   "exception": null,
   "input_path": "__notebook__.ipynb",
   "output_path": "__notebook__.ipynb",
   "parameters": {},
   "start_time": "2022-07-17T14:22:07.742602",
   "version": "2.3.4"
  }
 },
 "nbformat": 4,
 "nbformat_minor": 5
}
